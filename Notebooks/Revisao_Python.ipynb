{
  "nbformat": 4,
  "nbformat_minor": 0,
  "metadata": {
    "colab": {
      "name": "Revisao_Python.ipynb",
      "provenance": []
    },
    "kernelspec": {
      "name": "python3",
      "display_name": "Python 3"
    },
    "language_info": {
      "name": "python"
    }
  },
  "cells": [
    {
      "cell_type": "code",
      "metadata": {
        "id": "Rv92fzd9PMkG"
      },
      "source": [
        "n = 15"
      ],
      "execution_count": null,
      "outputs": []
    },
    {
      "cell_type": "code",
      "metadata": {
        "id": "-hyHVWrgPZ2O"
      },
      "source": [
        "mensagem = \"exemplo de string\""
      ],
      "execution_count": null,
      "outputs": []
    },
    {
      "cell_type": "code",
      "metadata": {
        "colab": {
          "base_uri": "https://localhost:8080/"
        },
        "id": "FFwnZ64hPbc9",
        "outputId": "269dc9fb-370d-479e-e8c6-1ead5e91d7c5"
      },
      "source": [
        "print(n)"
      ],
      "execution_count": null,
      "outputs": [
        {
          "output_type": "stream",
          "name": "stdout",
          "text": [
            "15\n"
          ]
        }
      ]
    },
    {
      "cell_type": "code",
      "metadata": {
        "colab": {
          "base_uri": "https://localhost:8080/"
        },
        "id": "otE5D9_qPipp",
        "outputId": "420a2bb8-8076-4dbc-8a4c-7868e73b7713"
      },
      "source": [
        "print(mensagem)"
      ],
      "execution_count": null,
      "outputs": [
        {
          "output_type": "stream",
          "name": "stdout",
          "text": [
            "exemplo de string\n"
          ]
        }
      ]
    },
    {
      "cell_type": "code",
      "metadata": {
        "colab": {
          "base_uri": "https://localhost:8080/"
        },
        "id": "qrNiytHiPlS6",
        "outputId": "42e59647-d25f-4d6c-f496-a19ea1144015"
      },
      "source": [
        "n = 15\n",
        "n1 = 15\n",
        "var = \"exemplo de string\"\n",
        "altura = 2.16\n",
        "var1 = True\n",
        "\n",
        "print(type(var1))"
      ],
      "execution_count": 1,
      "outputs": [
        {
          "output_type": "stream",
          "name": "stdout",
          "text": [
            "<class 'bool'>\n"
          ]
        }
      ]
    },
    {
      "cell_type": "code",
      "metadata": {
        "colab": {
          "base_uri": "https://localhost:8080/"
        },
        "id": "nAcZYD3EPnUA",
        "outputId": "4419b087-e99e-408d-9410-1b79675e9e18"
      },
      "source": [
        "print(type(mensagem))"
      ],
      "execution_count": null,
      "outputs": [
        {
          "output_type": "stream",
          "name": "stdout",
          "text": [
            "<class 'str'>\n"
          ]
        }
      ]
    },
    {
      "cell_type": "code",
      "metadata": {
        "colab": {
          "base_uri": "https://localhost:8080/"
        },
        "id": "HrUeQxiwP8xI",
        "outputId": "e12400c5-fa96-4a0e-d0af-7d3f5ac9a805"
      },
      "source": [
        "n = 1.76\n",
        "print(n)\n",
        "print(type(n))"
      ],
      "execution_count": null,
      "outputs": [
        {
          "output_type": "stream",
          "name": "stdout",
          "text": [
            "1.76\n",
            "<class 'float'>\n"
          ]
        }
      ]
    },
    {
      "cell_type": "code",
      "metadata": {
        "colab": {
          "base_uri": "https://localhost:8080/"
        },
        "id": "hJhLUlJTRS07",
        "outputId": "43d85512-732b-4808-eecc-1278e278acae"
      },
      "source": [
        "print(id(mensagem))"
      ],
      "execution_count": null,
      "outputs": [
        {
          "output_type": "stream",
          "name": "stdout",
          "text": [
            "139655773016272\n"
          ]
        }
      ]
    },
    {
      "cell_type": "code",
      "metadata": {
        "colab": {
          "base_uri": "https://localhost:8080/",
          "height": 52
        },
        "id": "k3ICMtv9TMVf",
        "outputId": "50d9043e-7cb2-497a-99b3-1b7ebc94108d"
      },
      "source": [
        "var1 = \"Joao\"\n",
        "var2 = \"da Silva\"\n",
        "\n",
        "nome = var1 +' ' + var2\n",
        "nome\n",
        "\n",
        "print(nome.find('da'))\n",
        "\n",
        "nome[nome.find('da'):]"
      ],
      "execution_count": null,
      "outputs": [
        {
          "output_type": "stream",
          "name": "stdout",
          "text": [
            "5\n"
          ]
        },
        {
          "output_type": "execute_result",
          "data": {
            "application/vnd.google.colaboratory.intrinsic+json": {
              "type": "string"
            },
            "text/plain": [
              "'da Silva'"
            ]
          },
          "metadata": {},
          "execution_count": 22
        }
      ]
    },
    {
      "cell_type": "code",
      "metadata": {
        "colab": {
          "base_uri": "https://localhost:8080/",
          "height": 35
        },
        "id": "Ek7dVoCLWtyy",
        "outputId": "70a70857-acee-4953-a9da-4950aa757463"
      },
      "source": [
        "nome.replace('Joao', 'Maria')"
      ],
      "execution_count": null,
      "outputs": [
        {
          "output_type": "execute_result",
          "data": {
            "application/vnd.google.colaboratory.intrinsic+json": {
              "type": "string"
            },
            "text/plain": [
              "'Maria da Silva'"
            ]
          },
          "metadata": {},
          "execution_count": 23
        }
      ]
    },
    {
      "cell_type": "code",
      "metadata": {
        "colab": {
          "base_uri": "https://localhost:8080/"
        },
        "id": "EIk5iRDZXpg2",
        "outputId": "dce64a78-45e1-4632-c737-a57e175ebcff"
      },
      "source": [
        "nome.split(' ')"
      ],
      "execution_count": null,
      "outputs": [
        {
          "output_type": "execute_result",
          "data": {
            "text/plain": [
              "['Joao', 'da', 'Silva']"
            ]
          },
          "metadata": {},
          "execution_count": 24
        }
      ]
    },
    {
      "cell_type": "code",
      "metadata": {
        "id": "i0kgF-kSYach"
      },
      "source": [
        "var1 = ('a','b')\n",
        "\n",
        "var1[0] = 2"
      ],
      "execution_count": null,
      "outputs": []
    },
    {
      "cell_type": "code",
      "metadata": {
        "colab": {
          "base_uri": "https://localhost:8080/"
        },
        "id": "wAppP73Bi4VZ",
        "outputId": "658e25b7-8c35-444d-9f29-da5e14f00147"
      },
      "source": [
        "idade = int(input('Digite sua idade: '))\n",
        "if idade >= 10 and idade < 20:\n",
        "    print('Você é adolescente')\n",
        "elif idade >= 20 and idade < 30:\n",
        "    print('Você é jovem')\n",
        "elif idade >= 30 and idade <= 100:\n",
        "    print('Você é adulto')\n",
        "else:\n",
        "    print('Valor não encontrado!')"
      ],
      "execution_count": null,
      "outputs": [
        {
          "output_type": "stream",
          "name": "stdout",
          "text": [
            "Digite sua idade: 10\n",
            "Você é adolescente\n"
          ]
        }
      ]
    },
    {
      "cell_type": "code",
      "metadata": {
        "id": "OLEFsAo3lTwN"
      },
      "source": [
        "teste = {}"
      ],
      "execution_count": null,
      "outputs": []
    },
    {
      "cell_type": "code",
      "metadata": {
        "colab": {
          "base_uri": "https://localhost:8080/"
        },
        "id": "WdscTbyolXud",
        "outputId": "40bdbf79-d02f-4580-d4a2-29ba5d393006"
      },
      "source": [
        "car = {\n",
        "\"brand\": \"Ford\",\n",
        "\"model\": \"Mustang\",\n",
        "\"year\": 1964\n",
        "}\n",
        "\n",
        "x = car.keys()\n",
        "\n",
        "print(x) #before the change\n",
        "\n",
        "car[\"color\"] = \"white\"\n",
        "\n",
        "print(x) #after the change"
      ],
      "execution_count": null,
      "outputs": [
        {
          "output_type": "stream",
          "name": "stdout",
          "text": [
            "dict_keys(['brand', 'model', 'year'])\n",
            "dict_keys(['brand', 'model', 'year', 'color'])\n"
          ]
        }
      ]
    },
    {
      "cell_type": "code",
      "metadata": {
        "id": "viNF3RRj1j1W"
      },
      "source": [
        "var1 = 'Debora'\n",
        "var2 = 'Lucats'\n",
        "\n",
        "var4 = ' da Aula do DEX02'\n",
        "\n",
        "var3 = 10\n",
        "\n",
        "nome = var1 + ' ' + var2 + var4\n",
        "\n",
        "lista = nome.split(' ')\n",
        "\n",
        "dict1 = { 'key' : value}\n",
        "\n",
        "print(len(nome))\n",
        "print(nome)\n",
        "print(nome.find('02'))\n",
        "print(nome.replace('Debora','VUVU'))\n",
        "print(lista)\n"
      ],
      "execution_count": null,
      "outputs": []
    },
    {
      "cell_type": "code",
      "metadata": {
        "id": "c0RC_TE-1qeZ"
      },
      "source": [
        "car = {\n",
        "    'modelo': 'uno',\n",
        "    'marca': 'fiat',\n",
        "    'data': {\n",
        "        'dia':10,\n",
        "        'mes':5,\n",
        "        'ano':[2000,2001,2002]\n",
        "    }\n",
        "}\n",
        "\n",
        "# print(car)\n",
        "\n",
        "car['color'] = 'blue'\n",
        "\n",
        "# print(car)\n",
        "# print(car.keys())\n",
        "# print(car.values())\n",
        "# print(car.items())\n",
        "print(car['data']['ano'][2])\n",
        "\n",
        "#acessar dic\n",
        "#acessar key data\n",
        "#acessar ano dentro de data\n",
        "\n",
        "\n",
        "for item in car.keys():\n",
        "   print(car[item])"
      ],
      "execution_count": null,
      "outputs": []
    }
  ]
}